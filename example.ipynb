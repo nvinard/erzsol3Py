{
 "cells": [
  {
   "cell_type": "markdown",
   "metadata": {},
   "source": [
    "# Example how to create erzsol input files and run erzsol"
   ]
  },
  {
   "cell_type": "code",
   "execution_count": 1,
   "metadata": {},
   "outputs": [],
   "source": [
    "# import libraries\n",
    "import pandas as pd\n",
    "import numpy as np\n",
    "import erzsol3Py as erz\n",
    "import os"
   ]
  },
  {
   "cell_type": "markdown",
   "metadata": {},
   "source": [
    "## create model\n",
    "\n",
    "and write to .mod file used by ERZSOL3\n",
    "\n",
    "Note that ERZSOL3 can either take layer thicknesses as input or the depth of the layers. You need to specify whether depth or layer thickness is given by specifying the layer_mode parameter."
   ]
  },
  {
   "cell_type": "code",
   "execution_count": 2,
   "metadata": {},
   "outputs": [],
   "source": [
    "# velocites in km/s, density in kg/m3, depth in km\n",
    "vp = [2.7, 3.3, 3.8] # P-velocity km/s\n",
    "vs = [1.8, 2.1, 2.5] # S-velocity in km/s\n",
    "rho = [2.7, 3.1, 3.2] # denisty in kg/m3\n",
    "dz = [1.0, 2.0, 5.0] # thickness of each layer in km -> set layer_mode=0 in writeModFile\n",
    "\n",
    "# depth of layers\n",
    "# depth = [0.0, 1.0, 3.0] # depth in km -> set layer_mode=1 in writeModFile function\n",
    "mod_fn = 'example.mod'"
   ]
  },
  {
   "cell_type": "code",
   "execution_count": 3,
   "metadata": {},
   "outputs": [],
   "source": [
    "erz.writeModFile(vp, vs, rho, layers=dz, layer_mode=0, model_name='myModel', erzsol3_mod_file=mod_fn, nr=1)"
   ]
  },
  {
   "cell_type": "code",
   "execution_count": 4,
   "metadata": {},
   "outputs": [
    {
     "name": "stdout",
     "output_type": "stream",
     "text": [
      "myModel\r\n",
      "    3        0\r\n",
      "1   2.700    1.800     2.70     1.000    0.000     0.000\r\n",
      "1   3.300    2.100     3.10     2.000    0.000     0.000\r\n",
      "1   3.800    2.500     3.20     5.000    0.000     0.000\r\n"
     ]
    }
   ],
   "source": [
    "# View created mod file\n",
    "! cat example.mod"
   ]
  },
  {
   "cell_type": "markdown",
   "metadata": {},
   "source": [
    "## Define receiver and source locations\n",
    "\n",
    "- shape of receiver locations should be (3, number_of_receivers)\n",
    "- shape of source location is (1, 3)"
   ]
  },
  {
   "cell_type": "code",
   "execution_count": 5,
   "metadata": {},
   "outputs": [
    {
     "name": "stdout",
     "output_type": "stream",
     "text": [
      "(3, 5)\n"
     ]
    }
   ],
   "source": [
    "receivers = np.array([[0,0,0],[1,1,0],[2,2,0],[3,3,0],[4,4,0]]) # km (cartesian coordinate system)\n",
    "#print(receivers)\n",
    "receivers = receivers.T # transpose to shape (3, n_receivers)\n",
    "print(receivers.shape)\n",
    "source_coord = np.array([2, 2, 3.5])\n",
    "\n",
    "dst_fn = 'example.dst'\n",
    "erz.writeDstFile(receivers, source_coord, dst_fn)"
   ]
  },
  {
   "cell_type": "code",
   "execution_count": 6,
   "metadata": {},
   "outputs": [
    {
     "name": "stdout",
     "output_type": "stream",
     "text": [
      "   5                               # of distances /distances\r\n",
      "  4.50      -135.00\r\n",
      "  3.77      -135.00\r\n",
      "  3.50      0.00\r\n",
      "  3.77      45.00\r\n",
      "  4.50      45.00\r\n"
     ]
    }
   ],
   "source": [
    "# view created dst file\n",
    "! cat example.dst"
   ]
  },
  {
   "cell_type": "code",
   "execution_count": 7,
   "metadata": {},
   "outputs": [
    {
     "data": {
      "text/plain": [
       "<matplotlib.legend.Legend at 0x1036c6a90>"
      ]
     },
     "execution_count": 7,
     "metadata": {},
     "output_type": "execute_result"
    },
    {
     "data": {
      "image/png": "[encoded data removed]",
      "text/plain": [
       "<Figure size 432x288 with 1 Axes>"
      ]
     },
     "metadata": {
      "needs_background": "light"
     },
     "output_type": "display_data"
    }
   ],
   "source": [
    "# Plot source and receiver locatios\n",
    "import matplotlib.pyplot as plt\n",
    "plt.scatter(receivers[0,:], receivers[1,:], marker='v', color='k')\n",
    "plt.scatter(source_coord[0], source_coord[1], marker='*', color='r', s=200, alpha=0.6)\n",
    "plt.xlabel('x [km]')\n",
    "plt.ylabel('y [km]')\n",
    "plt.legend(['receivers', 'source'])"
   ]
  },
  {
   "cell_type": "markdown",
   "metadata": {},
   "source": [
    "## Write the cmd file\n",
    "\n",
    "The function requires many inputs"
   ]
  },
  {
   "cell_type": "code",
   "execution_count": 8,
   "metadata": {},
   "outputs": [],
   "source": [
    "cmd_fn = 'example.cmd' # name of cmd file to create\n",
    "\n",
    "out_fn = 'example.tx.z'# name of output seismogram file that will be created by ERZSOL3\n",
    "\n",
    "srf_cond = \"HS\" # surface condition\n",
    "\n",
    "ntpts = 2048 # Number of time-samples in output seismograms\n",
    "dt = 0.002 # time step in s\n",
    "\n",
    "MT = np.array([[0,10,10],[10,10,0],[10,0,10]]) # moment tensor (isotropic source defined here)\n",
    "sz = source_coord[2] # depth of the source, best to get it from source_coord used to create dst file to avoid modelling errors\n",
    "\n",
    "dom_freq = 10.0 # center frequency of the source\n",
    "low_f_taper = (0.125, 0.25) # low frequency taper\n",
    "high_f_taper = (60.0, 75.0) # high frequency taper\n",
    " \n",
    "min_slow = 0.0001 # minumum slowness s/km\n",
    "max_slow = 0.7 # maximum slowness s/km"
   ]
  },
  {
   "cell_type": "code",
   "execution_count": 9,
   "metadata": {},
   "outputs": [],
   "source": [
    "erz.writeCmdFile(cmd_fn, out_fn, mod_fn, dst_fn, \n",
    "                 srf_cond, ntpts, dt, MT, sz, dom_freq,\n",
    "                 low_f_taper, high_f_taper, min_slow, max_slow)"
   ]
  },
  {
   "cell_type": "markdown",
   "metadata": {},
   "source": [
    "Now that all necessary input files are defined, ERZSOL3 can be run"
   ]
  },
  {
   "cell_type": "code",
   "execution_count": 10,
   "metadata": {},
   "outputs": [
    {
     "data": {
      "text/plain": [
       "0"
      ]
     },
     "execution_count": 10,
     "metadata": {},
     "output_type": "execute_result"
    }
   ],
   "source": [
    "# Run erzsol3\n",
    "erzBin = '/Users/nvinard/ErzsolOriginal/bin/erzsol3' # path to erzsol3\n",
    "cmd = erzBin + ' < example.cmd'\n",
    "os.system(cmd)"
   ]
  },
  {
   "cell_type": "code",
   "execution_count": 11,
   "metadata": {},
   "outputs": [
    {
     "name": "stdout",
     "output_type": "stream",
     "text": [
      "\"ERZSOL3-ew1  \"              Title\r\n",
      "\"example.tx.z\"               File for T-X seismogram output\r\n",
      "\"example.mod\"                              Velocity model file\r\n",
      "\"HS\"                                    Surface Condition (HS,H1,WF,WS)\r\n",
      " 10000                                  Number of slownesses (<2500)\r\n",
      " 0.0001                                Minimum slowness\r\n",
      " 0.7000                                Maximum slowness\r\n",
      "10                                      Slowness taper plo (n samples)\r\n",
      "10                                      Slowness taper phi (n samples)\r\n",
      "\"RI\"                                    Wavelet input or Ricker (WA/RI)\r\n",
      "\"ew.wav\"                                Wavelet file\r\n",
      "\"YES\"                                    Exponential damping? (YE/NO)\r\n",
      "2048                                  Number of time points\r\n",
      "  0.002                                   Time step\r\n",
      "   0.125  0.250                            Frequency taper (low)\r\n",
      "   60.000  75.000                            Frequency taper (high)\r\n",
      "   10.0                                  Dominant frequency      [RI]\r\n",
      "    0.00      10.00       10.00            Moment tensor Components\r\n",
      "    10.00      10.00       0.00\r\n",
      "    10.00      0.00       10.00\r\n",
      "   3.5000                                  Depth of source\r\n",
      "\"example.dst\"                                    Range and azimuth file\r\n",
      "  0.0                                   Reduction slowness\r\n",
      "  0.000                                 Start time (reduced)\r\n",
      "\"NO\"                                    Debug/frequency-wavenumber (YE/NO)\r\n",
      "\"NO\"                                    Debug/waveform (YE/NO)\r\n"
     ]
    }
   ],
   "source": [
    "! cat example.cmd"
   ]
  },
  {
   "cell_type": "code",
   "execution_count": 12,
   "metadata": {},
   "outputs": [
    {
     "data": {
      "text/plain": [
       "2048"
      ]
     },
     "execution_count": 12,
     "metadata": {},
     "output_type": "execute_result"
    }
   ],
   "source": [
    "f_cmd = open('example.cmd', 'r')\n",
    "lines = f_cmd.read().splitlines()\n",
    "f_cmd.close()\n",
    "int(lines[12].split(' ')[0])"
   ]
  },
  {
   "cell_type": "markdown",
   "metadata": {},
   "source": [
    "Read erzsol output and plot result"
   ]
  },
  {
   "cell_type": "code",
   "execution_count": 13,
   "metadata": {},
   "outputs": [
    {
     "data": {
      "text/plain": [
       "(3, 5, 2048)"
      ]
     },
     "execution_count": 13,
     "metadata": {},
     "output_type": "execute_result"
    }
   ],
   "source": [
    "data = erz.readErzsol3('example.tx.z', 'example.cmd')\n",
    "data.shape\n",
    "#erz.wiggle(data)"
   ]
  },
  {
   "cell_type": "code",
   "execution_count": 14,
   "metadata": {},
   "outputs": [
    {
     "data": {
      "image/png": "[encoded data removed]",
      "text/plain": [
       "<Figure size 432x288 with 1 Axes>"
      ]
     },
     "metadata": {
      "needs_background": "light"
     },
     "output_type": "display_data"
    },
    {
     "data": {
      "image/png": "[encoded data removed]",
      "text/plain": [
       "<Figure size 432x288 with 1 Axes>"
      ]
     },
     "metadata": {
      "needs_background": "light"
     },
     "output_type": "display_data"
    },
    {
     "data": {
      "image/png": "[encoded data removed]",
      "text/plain": [
       "<Figure size 432x288 with 1 Axes>"
      ]
     },
     "metadata": {
      "needs_background": "light"
     },
     "output_type": "display_data"
    }
   ],
   "source": [
    "plt.figure(1)\n",
    "erz.wiggle(data[0,:,:].T)\n",
    "plt.figure(2)\n",
    "erz.wiggle(data[1,:,:].T)\n",
    "plt.figure(3)\n",
    "erz.wiggle(data[2,:,:].T)"
   ]
  },
  {
   "cell_type": "code",
   "execution_count": null,
   "metadata": {},
   "outputs": [],
   "source": []
  }
 ],
 "metadata": {
  "kernelspec": {
   "display_name": "ibm",
   "language": "python",
   "name": "ibm"
  },
  "language_info": {
   "codemirror_mode": {
    "name": "ipython",
    "version": 3
   },
   "file_extension": ".py",
   "mimetype": "text/x-python",
   "name": "python",
   "nbconvert_exporter": "python",
   "pygments_lexer": "ipython3",
   "version": "3.9.1"
  }
 },
 "nbformat": 4,
 "nbformat_minor": 2
}
